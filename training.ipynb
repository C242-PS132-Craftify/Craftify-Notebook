{
 "cells": [
  {
   "cell_type": "code",
   "execution_count": null,
   "metadata": {},
   "outputs": [
    {
     "name": "stdout",
     "output_type": "stream",
     "text": [
      "^C\n"
     ]
    }
   ],
   "source": [
    "python C:\\Users\\Bagus\\Documents\\Tensorflow\\models\\research\\object_detection\\model_main_tf2.py --model_dir=C:/Temp/Training2 --pipeline_config_path=utilities/models/pipeline.config --num_train_steps=60000"
   ]
  },
  {
   "cell_type": "code",
   "execution_count": null,
   "metadata": {},
   "outputs": [],
   "source": [
    "python C:\\Users\\Bagus\\Documents\\Tensorflow\\models\\research\\object_detection\\exporter_main_v2.py --input_type=image_tensor --pipeline_config_path=C:\\Users\\Bagus\\Documents\\Craftify\\utilities\\models\\pipeline.config --trained_checkpoint_dir=C:\\Temp\\Training2 --output_directory=C:\\Users\\Bagus\\Documents\\Craftify-Repo\\model_new"
   ]
  }
 ],
 "metadata": {
  "kernelspec": {
   "display_name": "nyerah3",
   "language": "python",
   "name": "python3"
  },
  "language_info": {
   "codemirror_mode": {
    "name": "ipython",
    "version": 3
   },
   "file_extension": ".py",
   "mimetype": "text/x-python",
   "name": "python",
   "nbconvert_exporter": "python",
   "pygments_lexer": "ipython3",
   "version": "3.9.20"
  }
 },
 "nbformat": 4,
 "nbformat_minor": 2
}
